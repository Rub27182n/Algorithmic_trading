{
 "cells": [
  {
   "cell_type": "code",
   "execution_count": 1,
   "metadata": {},
   "outputs": [],
   "source": [
    "apikey = 'QddE1UndJCJ48XvSgC6xKZV2tR365sqFCvpdX6mT6xHOcB9a7Ykqu30qyNn8znOe'\n",
    "secret = 'kyArU6V1ejdtrZHFpk5CmLpJG1Lk4inAMnoC8hgX53RtK3zDjdUOwV6VH63d6a5B'"
   ]
  },
  {
   "cell_type": "code",
   "execution_count": 4,
   "metadata": {},
   "outputs": [],
   "source": [
    "#!pip install python-binance pandas mplfinance"
   ]
  },
  {
   "cell_type": "code",
   "execution_count": 5,
   "metadata": {},
   "outputs": [],
   "source": [
    "from binance import Client, ThreadedWebsocketManager, ThreadedDepthCacheManager\n",
    "import pandas as pd"
   ]
  },
  {
   "cell_type": "code",
   "execution_count": 6,
   "metadata": {},
   "outputs": [],
   "source": [
    "client = Client(apikey, secret)"
   ]
  },
  {
   "cell_type": "code",
   "execution_count": 7,
   "metadata": {},
   "outputs": [],
   "source": [
    "tickers = client.get_all_tickers()"
   ]
  },
  {
   "cell_type": "code",
   "execution_count": 12,
   "metadata": {},
   "outputs": [],
   "source": [
    "depth = client.get_order_book(symbol = 'BTCUSDT')"
   ]
  },
  {
   "cell_type": "code",
   "execution_count": 16,
   "metadata": {},
   "outputs": [
    {
     "data": {
      "text/plain": [
       "dict_keys(['lastUpdateId', 'bids', 'asks'])"
      ]
     },
     "execution_count": 16,
     "metadata": {},
     "output_type": "execute_result"
    }
   ],
   "source": [
    "depth.keys()"
   ]
  },
  {
   "cell_type": "code",
   "execution_count": 21,
   "metadata": {},
   "outputs": [
    {
     "data": {
      "text/html": [
       "<div>\n",
       "<style scoped>\n",
       "    .dataframe tbody tr th:only-of-type {\n",
       "        vertical-align: middle;\n",
       "    }\n",
       "\n",
       "    .dataframe tbody tr th {\n",
       "        vertical-align: top;\n",
       "    }\n",
       "\n",
       "    .dataframe thead th {\n",
       "        text-align: right;\n",
       "    }\n",
       "</style>\n",
       "<table border=\"1\" class=\"dataframe\">\n",
       "  <thead>\n",
       "    <tr style=\"text-align: right;\">\n",
       "      <th></th>\n",
       "      <th>b_price</th>\n",
       "      <th>b_vol</th>\n",
       "    </tr>\n",
       "  </thead>\n",
       "  <tbody>\n",
       "    <tr>\n",
       "      <th>0</th>\n",
       "      <td>19893.13000000</td>\n",
       "      <td>0.98897000</td>\n",
       "    </tr>\n",
       "    <tr>\n",
       "      <th>1</th>\n",
       "      <td>19892.97000000</td>\n",
       "      <td>0.00100000</td>\n",
       "    </tr>\n",
       "  </tbody>\n",
       "</table>\n",
       "</div>"
      ],
      "text/plain": [
       "          b_price       b_vol\n",
       "0  19893.13000000  0.98897000\n",
       "1  19892.97000000  0.00100000"
      ]
     },
     "execution_count": 21,
     "metadata": {},
     "output_type": "execute_result"
    }
   ],
   "source": [
    "bids = pd.DataFrame(depth['bids'])\n",
    "bids.columns = ['b_price', 'b_vol']\n",
    "bids.head(2)"
   ]
  },
  {
   "cell_type": "code",
   "execution_count": 22,
   "metadata": {},
   "outputs": [
    {
     "data": {
      "text/html": [
       "<div>\n",
       "<style scoped>\n",
       "    .dataframe tbody tr th:only-of-type {\n",
       "        vertical-align: middle;\n",
       "    }\n",
       "\n",
       "    .dataframe tbody tr th {\n",
       "        vertical-align: top;\n",
       "    }\n",
       "\n",
       "    .dataframe thead th {\n",
       "        text-align: right;\n",
       "    }\n",
       "</style>\n",
       "<table border=\"1\" class=\"dataframe\">\n",
       "  <thead>\n",
       "    <tr style=\"text-align: right;\">\n",
       "      <th></th>\n",
       "      <th>a_price</th>\n",
       "      <th>a_vol</th>\n",
       "    </tr>\n",
       "  </thead>\n",
       "  <tbody>\n",
       "    <tr>\n",
       "      <th>0</th>\n",
       "      <td>19893.14000000</td>\n",
       "      <td>4.81294000</td>\n",
       "    </tr>\n",
       "    <tr>\n",
       "      <th>1</th>\n",
       "      <td>19893.19000000</td>\n",
       "      <td>0.12573000</td>\n",
       "    </tr>\n",
       "  </tbody>\n",
       "</table>\n",
       "</div>"
      ],
      "text/plain": [
       "          a_price       a_vol\n",
       "0  19893.14000000  4.81294000\n",
       "1  19893.19000000  0.12573000"
      ]
     },
     "execution_count": 22,
     "metadata": {},
     "output_type": "execute_result"
    }
   ],
   "source": [
    "asks = pd.DataFrame(depth['asks'])\n",
    "asks.columns = ['a_price', 'a_vol']\n",
    "asks.head(2)"
   ]
  },
  {
   "cell_type": "code",
   "execution_count": 30,
   "metadata": {},
   "outputs": [],
   "source": [
    "data = pd.concat([bids, asks], axis = 1, join = 'inner')"
   ]
  },
  {
   "cell_type": "code",
   "execution_count": 31,
   "metadata": {},
   "outputs": [
    {
     "data": {
      "text/html": [
       "<div>\n",
       "<style scoped>\n",
       "    .dataframe tbody tr th:only-of-type {\n",
       "        vertical-align: middle;\n",
       "    }\n",
       "\n",
       "    .dataframe tbody tr th {\n",
       "        vertical-align: top;\n",
       "    }\n",
       "\n",
       "    .dataframe thead th {\n",
       "        text-align: right;\n",
       "    }\n",
       "</style>\n",
       "<table border=\"1\" class=\"dataframe\">\n",
       "  <thead>\n",
       "    <tr style=\"text-align: right;\">\n",
       "      <th></th>\n",
       "      <th>b_price</th>\n",
       "      <th>b_vol</th>\n",
       "      <th>a_price</th>\n",
       "      <th>a_vol</th>\n",
       "    </tr>\n",
       "  </thead>\n",
       "  <tbody>\n",
       "    <tr>\n",
       "      <th>0</th>\n",
       "      <td>19893.13000000</td>\n",
       "      <td>0.98897000</td>\n",
       "      <td>19893.14000000</td>\n",
       "      <td>4.81294000</td>\n",
       "    </tr>\n",
       "    <tr>\n",
       "      <th>1</th>\n",
       "      <td>19892.97000000</td>\n",
       "      <td>0.00100000</td>\n",
       "      <td>19893.19000000</td>\n",
       "      <td>0.12573000</td>\n",
       "    </tr>\n",
       "    <tr>\n",
       "      <th>2</th>\n",
       "      <td>19891.48000000</td>\n",
       "      <td>0.04122000</td>\n",
       "      <td>19893.93000000</td>\n",
       "      <td>0.00100000</td>\n",
       "    </tr>\n",
       "    <tr>\n",
       "      <th>3</th>\n",
       "      <td>19891.47000000</td>\n",
       "      <td>0.12404000</td>\n",
       "      <td>19894.11000000</td>\n",
       "      <td>0.56127000</td>\n",
       "    </tr>\n",
       "    <tr>\n",
       "      <th>4</th>\n",
       "      <td>19890.22000000</td>\n",
       "      <td>0.00100000</td>\n",
       "      <td>19894.12000000</td>\n",
       "      <td>1.99061000</td>\n",
       "    </tr>\n",
       "    <tr>\n",
       "      <th>...</th>\n",
       "      <td>...</td>\n",
       "      <td>...</td>\n",
       "      <td>...</td>\n",
       "      <td>...</td>\n",
       "    </tr>\n",
       "    <tr>\n",
       "      <th>95</th>\n",
       "      <td>19878.64000000</td>\n",
       "      <td>0.00210000</td>\n",
       "      <td>19914.00000000</td>\n",
       "      <td>0.12582000</td>\n",
       "    </tr>\n",
       "    <tr>\n",
       "      <th>96</th>\n",
       "      <td>19878.37000000</td>\n",
       "      <td>0.10000000</td>\n",
       "      <td>19914.91000000</td>\n",
       "      <td>0.00276000</td>\n",
       "    </tr>\n",
       "    <tr>\n",
       "      <th>97</th>\n",
       "      <td>19878.35000000</td>\n",
       "      <td>0.22000000</td>\n",
       "      <td>19915.13000000</td>\n",
       "      <td>0.00916000</td>\n",
       "    </tr>\n",
       "    <tr>\n",
       "      <th>98</th>\n",
       "      <td>19877.94000000</td>\n",
       "      <td>0.00310000</td>\n",
       "      <td>19915.15000000</td>\n",
       "      <td>0.00057000</td>\n",
       "    </tr>\n",
       "    <tr>\n",
       "      <th>99</th>\n",
       "      <td>19877.49000000</td>\n",
       "      <td>0.07073000</td>\n",
       "      <td>19915.32000000</td>\n",
       "      <td>3.11081000</td>\n",
       "    </tr>\n",
       "  </tbody>\n",
       "</table>\n",
       "<p>100 rows × 4 columns</p>\n",
       "</div>"
      ],
      "text/plain": [
       "           b_price       b_vol         a_price       a_vol\n",
       "0   19893.13000000  0.98897000  19893.14000000  4.81294000\n",
       "1   19892.97000000  0.00100000  19893.19000000  0.12573000\n",
       "2   19891.48000000  0.04122000  19893.93000000  0.00100000\n",
       "3   19891.47000000  0.12404000  19894.11000000  0.56127000\n",
       "4   19890.22000000  0.00100000  19894.12000000  1.99061000\n",
       "..             ...         ...             ...         ...\n",
       "95  19878.64000000  0.00210000  19914.00000000  0.12582000\n",
       "96  19878.37000000  0.10000000  19914.91000000  0.00276000\n",
       "97  19878.35000000  0.22000000  19915.13000000  0.00916000\n",
       "98  19877.94000000  0.00310000  19915.15000000  0.00057000\n",
       "99  19877.49000000  0.07073000  19915.32000000  3.11081000\n",
       "\n",
       "[100 rows x 4 columns]"
      ]
     },
     "execution_count": 31,
     "metadata": {},
     "output_type": "execute_result"
    }
   ],
   "source": [
    "data"
   ]
  },
  {
   "cell_type": "code",
   "execution_count": 32,
   "metadata": {},
   "outputs": [],
   "source": [
    "hist = client.get_historical_klines('BTCUSDT', Client.KLINE_INTERVAL_1HOUR, '1 Jan 2018')"
   ]
  },
  {
   "cell_type": "code",
   "execution_count": null,
   "metadata": {},
   "outputs": [],
   "source": [
    "#  [\n",
    "#   [\n",
    "#     1499040000000,      // Open time\n",
    "#     \"0.01634790\",       // Open\n",
    "#     \"0.80000000\",       // High\n",
    "#     \"0.01575800\",       // Low\n",
    "#     \"0.01577100\",       // Close\n",
    "#     \"148976.11427815\",  // Volume\n",
    "#     1499644799999,      // Close time\n",
    "#     \"2434.19055334\",    // Quote asset volume\n",
    "#     308,                // Number of trades\n",
    "#     \"1756.87402397\",    // Taker buy base asset volume\n",
    "#     \"28.46694368\",      // Taker buy quote asset volume\n",
    "#     \"17928899.62484339\" // Ignore.\n",
    "#   ]\n",
    "# ]"
   ]
  },
  {
   "cell_type": "code",
   "execution_count": 37,
   "metadata": {},
   "outputs": [
    {
     "data": {
      "text/plain": [
       "1514764800000"
      ]
     },
     "execution_count": 37,
     "metadata": {},
     "output_type": "execute_result"
    }
   ],
   "source": [
    "hist[0][0]"
   ]
  },
  {
   "cell_type": "code",
   "execution_count": 38,
   "metadata": {},
   "outputs": [],
   "source": [
    "hist_df = pd.DataFrame(hist)"
   ]
  },
  {
   "cell_type": "code",
   "execution_count": 39,
   "metadata": {},
   "outputs": [],
   "source": [
    "hist_df.columns = ['Open Time', 'Open', 'High', 'Low', 'Close', 'Volume', 'Close Time', 'Quote Asset Volume', \n",
    "                    'Number of Trades', 'TB Base Volume', 'TB Quote Volume', 'Ignore']"
   ]
  },
  {
   "cell_type": "code",
   "execution_count": 40,
   "metadata": {},
   "outputs": [
    {
     "data": {
      "text/html": [
       "<div>\n",
       "<style scoped>\n",
       "    .dataframe tbody tr th:only-of-type {\n",
       "        vertical-align: middle;\n",
       "    }\n",
       "\n",
       "    .dataframe tbody tr th {\n",
       "        vertical-align: top;\n",
       "    }\n",
       "\n",
       "    .dataframe thead th {\n",
       "        text-align: right;\n",
       "    }\n",
       "</style>\n",
       "<table border=\"1\" class=\"dataframe\">\n",
       "  <thead>\n",
       "    <tr style=\"text-align: right;\">\n",
       "      <th></th>\n",
       "      <th>Open Time</th>\n",
       "      <th>Open</th>\n",
       "      <th>High</th>\n",
       "      <th>Low</th>\n",
       "      <th>Close</th>\n",
       "      <th>Volume</th>\n",
       "      <th>Close Time</th>\n",
       "      <th>Quote Asset Volume</th>\n",
       "      <th>Number of Trades</th>\n",
       "      <th>TB Base Volume</th>\n",
       "      <th>TB Quote Volume</th>\n",
       "      <th>Ignore</th>\n",
       "    </tr>\n",
       "  </thead>\n",
       "  <tbody>\n",
       "    <tr>\n",
       "      <th>0</th>\n",
       "      <td>1514764800000</td>\n",
       "      <td>13715.65000000</td>\n",
       "      <td>13715.65000000</td>\n",
       "      <td>13400.01000000</td>\n",
       "      <td>13529.01000000</td>\n",
       "      <td>443.35619900</td>\n",
       "      <td>1514768399999</td>\n",
       "      <td>5993909.83603800</td>\n",
       "      <td>5228</td>\n",
       "      <td>228.52192100</td>\n",
       "      <td>3090541.10576949</td>\n",
       "      <td>0</td>\n",
       "    </tr>\n",
       "    <tr>\n",
       "      <th>1</th>\n",
       "      <td>1514768400000</td>\n",
       "      <td>13528.99000000</td>\n",
       "      <td>13595.89000000</td>\n",
       "      <td>13155.38000000</td>\n",
       "      <td>13203.06000000</td>\n",
       "      <td>383.69700600</td>\n",
       "      <td>1514771999999</td>\n",
       "      <td>5154521.55513544</td>\n",
       "      <td>4534</td>\n",
       "      <td>180.84040300</td>\n",
       "      <td>2430449.49295672</td>\n",
       "      <td>0</td>\n",
       "    </tr>\n",
       "    <tr>\n",
       "      <th>2</th>\n",
       "      <td>1514772000000</td>\n",
       "      <td>13203.00000000</td>\n",
       "      <td>13418.43000000</td>\n",
       "      <td>13200.00000000</td>\n",
       "      <td>13330.18000000</td>\n",
       "      <td>429.06457200</td>\n",
       "      <td>1514775599999</td>\n",
       "      <td>5710192.01852959</td>\n",
       "      <td>4887</td>\n",
       "      <td>192.23793500</td>\n",
       "      <td>2558504.65764531</td>\n",
       "      <td>0</td>\n",
       "    </tr>\n",
       "    <tr>\n",
       "      <th>3</th>\n",
       "      <td>1514775600000</td>\n",
       "      <td>13330.26000000</td>\n",
       "      <td>13611.27000000</td>\n",
       "      <td>13290.00000000</td>\n",
       "      <td>13410.03000000</td>\n",
       "      <td>420.08703000</td>\n",
       "      <td>1514779199999</td>\n",
       "      <td>5657448.45730419</td>\n",
       "      <td>4789</td>\n",
       "      <td>137.91840700</td>\n",
       "      <td>1858041.25745743</td>\n",
       "      <td>0</td>\n",
       "    </tr>\n",
       "    <tr>\n",
       "      <th>4</th>\n",
       "      <td>1514779200000</td>\n",
       "      <td>13434.98000000</td>\n",
       "      <td>13623.29000000</td>\n",
       "      <td>13322.15000000</td>\n",
       "      <td>13601.01000000</td>\n",
       "      <td>340.80732900</td>\n",
       "      <td>1514782799999</td>\n",
       "      <td>4588046.99615741</td>\n",
       "      <td>4563</td>\n",
       "      <td>172.95763500</td>\n",
       "      <td>2328057.92021612</td>\n",
       "      <td>0</td>\n",
       "    </tr>\n",
       "  </tbody>\n",
       "</table>\n",
       "</div>"
      ],
      "text/plain": [
       "       Open Time            Open            High             Low  \\\n",
       "0  1514764800000  13715.65000000  13715.65000000  13400.01000000   \n",
       "1  1514768400000  13528.99000000  13595.89000000  13155.38000000   \n",
       "2  1514772000000  13203.00000000  13418.43000000  13200.00000000   \n",
       "3  1514775600000  13330.26000000  13611.27000000  13290.00000000   \n",
       "4  1514779200000  13434.98000000  13623.29000000  13322.15000000   \n",
       "\n",
       "            Close        Volume     Close Time Quote Asset Volume  \\\n",
       "0  13529.01000000  443.35619900  1514768399999   5993909.83603800   \n",
       "1  13203.06000000  383.69700600  1514771999999   5154521.55513544   \n",
       "2  13330.18000000  429.06457200  1514775599999   5710192.01852959   \n",
       "3  13410.03000000  420.08703000  1514779199999   5657448.45730419   \n",
       "4  13601.01000000  340.80732900  1514782799999   4588046.99615741   \n",
       "\n",
       "   Number of Trades TB Base Volume   TB Quote Volume Ignore  \n",
       "0              5228   228.52192100  3090541.10576949      0  \n",
       "1              4534   180.84040300  2430449.49295672      0  \n",
       "2              4887   192.23793500  2558504.65764531      0  \n",
       "3              4789   137.91840700  1858041.25745743      0  \n",
       "4              4563   172.95763500  2328057.92021612      0  "
      ]
     },
     "execution_count": 40,
     "metadata": {},
     "output_type": "execute_result"
    }
   ],
   "source": [
    "hist_df.head()"
   ]
  },
  {
   "cell_type": "code",
   "execution_count": null,
   "metadata": {},
   "outputs": [],
   "source": [
    "hist_df['Open Time'] = pd.to_datetime(hist_df['Open Time']/1000, unit='s')"
   ]
  },
  {
   "cell_type": "code",
   "execution_count": 53,
   "metadata": {},
   "outputs": [
    {
     "data": {
      "text/plain": [
       "1514764800000"
      ]
     },
     "execution_count": 53,
     "metadata": {},
     "output_type": "execute_result"
    }
   ],
   "source": [
    "hist_df['Open Time'][0]"
   ]
  },
  {
   "cell_type": "code",
   "execution_count": 94,
   "metadata": {},
   "outputs": [
    {
     "data": {
      "text/plain": [
       "Timestamp('2018-01-01 00:00:00')"
      ]
     },
     "execution_count": 94,
     "metadata": {},
     "output_type": "execute_result"
    }
   ],
   "source": [
    "pd.to_datetime(hist_df['Open Time'][0], unit='ms')"
   ]
  },
  {
   "cell_type": "code",
   "execution_count": null,
   "metadata": {},
   "outputs": [],
   "source": []
  },
  {
   "cell_type": "code",
   "execution_count": null,
   "metadata": {},
   "outputs": [],
   "source": []
  },
  {
   "cell_type": "code",
   "execution_count": null,
   "metadata": {},
   "outputs": [],
   "source": []
  },
  {
   "cell_type": "code",
   "execution_count": null,
   "metadata": {},
   "outputs": [],
   "source": []
  }
 ],
 "metadata": {
  "kernelspec": {
   "display_name": "Python 3.10.4 ('.venv': venv)",
   "language": "python",
   "name": "python3"
  },
  "language_info": {
   "codemirror_mode": {
    "name": "ipython",
    "version": 3
   },
   "file_extension": ".py",
   "mimetype": "text/x-python",
   "name": "python",
   "nbconvert_exporter": "python",
   "pygments_lexer": "ipython3",
   "version": "3.10.4"
  },
  "orig_nbformat": 4,
  "vscode": {
   "interpreter": {
    "hash": "0dab539954432b9570ee3183e60644226b99fc187097846596cac5a89b94dfe5"
   }
  }
 },
 "nbformat": 4,
 "nbformat_minor": 2
}
