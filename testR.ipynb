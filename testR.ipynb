{
 "cells": [
  {
   "cell_type": "code",
   "execution_count": 1,
   "metadata": {
    "cell_id": "f859b194-8cde-471e-872c-62f6ead6fdfd",
    "deepnote_cell_height": 225,
    "deepnote_cell_type": "code",
    "deepnote_to_be_reexecuted": false,
    "execution_millis": 13306,
    "execution_start": 1657505480098,
    "owner_user_id": "fa17669c-34e8-48d1-a463-f0dc13701783",
    "source_hash": "52769cd0"
   },
   "outputs": [],
   "source": [
    "import pandas as pd\n",
    "import numpy as np\n",
    "import pandas_ta as pta\n",
    "import plotly.graph_objects as go\n",
    "from plotly.subplots import make_subplots\n",
    "from datetime import datetime\n",
    "import data as dt\n",
    "import functions as fn\n",
    "from collections import Counter"
   ]
  },
  {
   "cell_type": "code",
   "execution_count": 2,
   "metadata": {
    "cell_id": "00001-5529ec59-2e55-4f41-a5c8-9a2bc38035b6",
    "deepnote_cell_height": 99,
    "deepnote_cell_type": "code",
    "deepnote_to_be_reexecuted": false,
    "execution_millis": 3,
    "execution_start": 1657505493418,
    "source_hash": "a293f149"
   },
   "outputs": [],
   "source": [
    "BTCUSDT15m = dt.BTCUSDT15m\n",
    "BTCUSDT15m.set_index(\"Open Time\", inplace=True)"
   ]
  },
  {
   "cell_type": "code",
   "execution_count": 3,
   "metadata": {},
   "outputs": [],
   "source": [
    "# SRSI\n",
    "BTCUSDT15m = pd.concat([BTCUSDT15m, pta.stochrsi(BTCUSDT15m.Close, 14)], axis = 1)\n",
    "BTCUSDT15m.rename(columns = {'STOCHRSIk_14_14_3_3':'K', 'STOCHRSId_14_14_3_3':'D'}, inplace = True)"
   ]
  },
  {
   "cell_type": "code",
   "execution_count": 4,
   "metadata": {},
   "outputs": [],
   "source": [
    "# EMA\n",
    "for i in (8, 14, 50):\n",
    "    BTCUSDT15m['EMA_'+str(i)] = pta.ema(BTCUSDT15m.Close, i)"
   ]
  },
  {
   "cell_type": "code",
   "execution_count": 5,
   "metadata": {},
   "outputs": [],
   "source": [
    "# ATR\n",
    "BTCUSDT15m['ATR'] =pta.atr(BTCUSDT15m.High, BTCUSDT15m.Low, BTCUSDT15m.Close)"
   ]
  },
  {
   "cell_type": "code",
   "execution_count": 6,
   "metadata": {},
   "outputs": [],
   "source": [
    "BTCUSDT15m.dropna(inplace=True)"
   ]
  },
  {
   "cell_type": "code",
   "execution_count": 7,
   "metadata": {},
   "outputs": [],
   "source": [
    "def check_cross(df):\n",
    "    series = df['K'] > df['D']\n",
    "    return series.diff()"
   ]
  },
  {
   "cell_type": "code",
   "execution_count": 8,
   "metadata": {},
   "outputs": [],
   "source": [
    "BTCUSDT15m['KD_Cross'] = check_cross(BTCUSDT15m)\n",
    "BTCUSDT15m.dropna(inplace=True)"
   ]
  },
  {
   "cell_type": "code",
   "execution_count": 9,
   "metadata": {},
   "outputs": [],
   "source": [
    "BTCUSDT15m['TP'] = BTCUSDT15m.Close+(BTCUSDT15m.ATR*2)\n"
   ]
  },
  {
   "cell_type": "code",
   "execution_count": 10,
   "metadata": {},
   "outputs": [],
   "source": [
    "BTCUSDT15m['SL'] = BTCUSDT15m.Close-(BTCUSDT15m.ATR*3)"
   ]
  },
  {
   "cell_type": "code",
   "execution_count": 11,
   "metadata": {},
   "outputs": [
    {
     "data": {
      "text/html": [
       "<div>\n",
       "<style scoped>\n",
       "    .dataframe tbody tr th:only-of-type {\n",
       "        vertical-align: middle;\n",
       "    }\n",
       "\n",
       "    .dataframe tbody tr th {\n",
       "        vertical-align: top;\n",
       "    }\n",
       "\n",
       "    .dataframe thead th {\n",
       "        text-align: right;\n",
       "    }\n",
       "</style>\n",
       "<table border=\"1\" class=\"dataframe\">\n",
       "  <thead>\n",
       "    <tr style=\"text-align: right;\">\n",
       "      <th></th>\n",
       "      <th>Open</th>\n",
       "      <th>High</th>\n",
       "      <th>Low</th>\n",
       "      <th>Close</th>\n",
       "      <th>Volume</th>\n",
       "      <th>K</th>\n",
       "      <th>D</th>\n",
       "      <th>EMA_8</th>\n",
       "      <th>EMA_14</th>\n",
       "      <th>EMA_50</th>\n",
       "      <th>ATR</th>\n",
       "      <th>KD_Cross</th>\n",
       "      <th>TP</th>\n",
       "      <th>SL</th>\n",
       "    </tr>\n",
       "    <tr>\n",
       "      <th>Open Time</th>\n",
       "      <th></th>\n",
       "      <th></th>\n",
       "      <th></th>\n",
       "      <th></th>\n",
       "      <th></th>\n",
       "      <th></th>\n",
       "      <th></th>\n",
       "      <th></th>\n",
       "      <th></th>\n",
       "      <th></th>\n",
       "      <th></th>\n",
       "      <th></th>\n",
       "      <th></th>\n",
       "      <th></th>\n",
       "    </tr>\n",
       "  </thead>\n",
       "  <tbody>\n",
       "    <tr>\n",
       "      <th>2018-01-01 12:30:00</th>\n",
       "      <td>13146.81</td>\n",
       "      <td>13245.55</td>\n",
       "      <td>13146.28</td>\n",
       "      <td>13200.01</td>\n",
       "      <td>66.739212</td>\n",
       "      <td>38.382290</td>\n",
       "      <td>35.686151</td>\n",
       "      <td>13253.118039</td>\n",
       "      <td>13329.591503</td>\n",
       "      <td>13478.741024</td>\n",
       "      <td>151.754605</td>\n",
       "      <td>False</td>\n",
       "      <td>13503.519210</td>\n",
       "      <td>12744.746185</td>\n",
       "    </tr>\n",
       "    <tr>\n",
       "      <th>2018-01-01 12:45:00</th>\n",
       "      <td>13200.01</td>\n",
       "      <td>13225.00</td>\n",
       "      <td>13117.72</td>\n",
       "      <td>13172.42</td>\n",
       "      <td>54.989819</td>\n",
       "      <td>36.260385</td>\n",
       "      <td>37.124182</td>\n",
       "      <td>13235.185141</td>\n",
       "      <td>13308.635303</td>\n",
       "      <td>13466.728434</td>\n",
       "      <td>148.503614</td>\n",
       "      <td>True</td>\n",
       "      <td>13469.427229</td>\n",
       "      <td>12726.909157</td>\n",
       "    </tr>\n",
       "  </tbody>\n",
       "</table>\n",
       "</div>"
      ],
      "text/plain": [
       "                         Open      High       Low     Close     Volume  \\\n",
       "Open Time                                                                \n",
       "2018-01-01 12:30:00  13146.81  13245.55  13146.28  13200.01  66.739212   \n",
       "2018-01-01 12:45:00  13200.01  13225.00  13117.72  13172.42  54.989819   \n",
       "\n",
       "                             K          D         EMA_8        EMA_14  \\\n",
       "Open Time                                                               \n",
       "2018-01-01 12:30:00  38.382290  35.686151  13253.118039  13329.591503   \n",
       "2018-01-01 12:45:00  36.260385  37.124182  13235.185141  13308.635303   \n",
       "\n",
       "                           EMA_50         ATR KD_Cross            TP  \\\n",
       "Open Time                                                              \n",
       "2018-01-01 12:30:00  13478.741024  151.754605    False  13503.519210   \n",
       "2018-01-01 12:45:00  13466.728434  148.503614     True  13469.427229   \n",
       "\n",
       "                               SL  \n",
       "Open Time                          \n",
       "2018-01-01 12:30:00  12744.746185  \n",
       "2018-01-01 12:45:00  12726.909157  "
      ]
     },
     "execution_count": 11,
     "metadata": {},
     "output_type": "execute_result"
    }
   ],
   "source": [
    "BTCUSDT15m.head(2)"
   ]
  },
  {
   "cell_type": "code",
   "execution_count": 12,
   "metadata": {},
   "outputs": [],
   "source": [
    "BTCUSDT15m['Buy_signal'] = np.where((BTCUSDT15m.KD_Cross) &\n",
    "                                     (BTCUSDT15m.Close > BTCUSDT15m.EMA_8) &\n",
    "                                     (BTCUSDT15m.EMA_8 > BTCUSDT15m.EMA_14) &\n",
    "                                     (BTCUSDT15m.EMA_14 > BTCUSDT15m.EMA_50), 1, 0)"
   ]
  },
  {
   "cell_type": "code",
   "execution_count": 13,
   "metadata": {},
   "outputs": [],
   "source": [
    "sells = []\n",
    "outcome = []\n",
    "for i in range(len(BTCUSDT15m)):\n",
    "    if BTCUSDT15m.Buy_signal.iloc[i]:\n",
    "        k = 1\n",
    "        SL = BTCUSDT15m.SL.iloc[i] # Stop Loss\n",
    "        TP = BTCUSDT15m.TP.iloc[i] # Take Profit\n",
    "        position = True\n",
    "        while position:\n",
    "            l_close = BTCUSDT15m.Close.iloc[i+k]\n",
    "            if l_close >= TP:\n",
    "                sells.append(BTCUSDT15m.iloc[i+k].name)\n",
    "                outcome.append('TP')\n",
    "                position = False\n",
    "            elif l_close <= SL:\n",
    "                sells.append(BTCUSDT15m.iloc[i+k].name)\n",
    "                outcome.append('SL')\n",
    "                position = False\n",
    "            k+=1\n"
   ]
  },
  {
   "cell_type": "code",
   "execution_count": 14,
   "metadata": {},
   "outputs": [],
   "source": [
    "BTCUSDT15m.loc[sells, 'Sell_signal'] = 1"
   ]
  },
  {
   "cell_type": "code",
   "execution_count": 15,
   "metadata": {},
   "outputs": [],
   "source": [
    "BTCUSDT15m.loc[sells, 'Outcome'] = outcome"
   ]
  },
  {
   "cell_type": "code",
   "execution_count": 16,
   "metadata": {},
   "outputs": [],
   "source": [
    "BTCUSDT15m.Sell_signal = BTCUSDT15m.Sell_signal.fillna(0).astype(int)"
   ]
  },
  {
   "cell_type": "code",
   "execution_count": 17,
   "metadata": {},
   "outputs": [],
   "source": [
    "mask = BTCUSDT15m[(BTCUSDT15m.Buy_signal == 1) | (BTCUSDT15m.Sell_signal == 1)]"
   ]
  },
  {
   "cell_type": "code",
   "execution_count": 18,
   "metadata": {},
   "outputs": [],
   "source": [
    "mask2 = mask[(mask.Buy_signal.diff() == 1) | (mask.Sell_signal.diff() == 1)]"
   ]
  },
  {
   "cell_type": "code",
   "execution_count": 33,
   "metadata": {},
   "outputs": [
    {
     "data": {
      "text/plain": [
       "TP    2090\n",
       "SL    1311\n",
       "Name: Outcome, dtype: int64"
      ]
     },
     "execution_count": 33,
     "metadata": {},
     "output_type": "execute_result"
    }
   ],
   "source": [
    "RES = mask2.Outcome.value_counts()\n",
    "RES"
   ]
  },
  {
   "cell_type": "code",
   "execution_count": 34,
   "metadata": {},
   "outputs": [
    {
     "data": {
      "text/plain": [
       "0.6145251396648045"
      ]
     },
     "execution_count": 34,
     "metadata": {},
     "output_type": "execute_result"
    }
   ],
   "source": [
    "win_rate = RES[0]/(RES[0]+RES[1])\n",
    "win_rate"
   ]
  },
  {
   "cell_type": "code",
   "execution_count": 35,
   "metadata": {},
   "outputs": [
    {
     "data": {
      "text/plain": [
       "0.3854748603351955"
      ]
     },
     "execution_count": 35,
     "metadata": {},
     "output_type": "execute_result"
    }
   ],
   "source": [
    "loss_rate = RES[1]/(RES[0]+RES[1])\n",
    "loss_rate"
   ]
  },
  {
   "cell_type": "code",
   "execution_count": null,
   "metadata": {},
   "outputs": [],
   "source": []
  },
  {
   "cell_type": "code",
   "execution_count": null,
   "metadata": {},
   "outputs": [],
   "source": []
  },
  {
   "cell_type": "markdown",
   "metadata": {
    "cell_id": "00006-d1623390-a6ae-4cf8-99a5-62ab52db3b82",
    "deepnote_cell_height": 82,
    "deepnote_cell_type": "markdown"
   },
   "source": [
    "# VWAP SIGNAL"
   ]
  },
  {
   "cell_type": "code",
   "execution_count": 23,
   "metadata": {
    "cell_id": "0203fd9ffd1f4f8e802315a5772a6189",
    "deepnote_cell_height": 150,
    "deepnote_cell_type": "code",
    "deepnote_to_be_reexecuted": false,
    "execution_millis": 60,
    "execution_start": 1657505493429,
    "source_hash": "9b075936",
    "tags": []
   },
   "outputs": [
    {
     "name": "stdout",
     "output_type": "stream",
     "text": [
      "CPU times: total: 62.5 ms\n",
      "Wall time: 39.9 ms\n"
     ]
    }
   ],
   "source": [
    "%%time\n",
    "BTCUSDT15m['VWAP'] = fn.vwap(BTCUSDT15m.High, BTCUSDT15m.Low, BTCUSDT15m.Close, BTCUSDT15m.Volume)"
   ]
  },
  {
   "cell_type": "code",
   "execution_count": 24,
   "metadata": {
    "cell_id": "735cdf2623974809b4cfcd0bbbf4f9b0",
    "deepnote_cell_height": 171,
    "deepnote_cell_type": "code",
    "deepnote_to_be_reexecuted": false,
    "execution_millis": 44,
    "execution_start": 1657505493507,
    "source_hash": "cb590554",
    "tags": []
   },
   "outputs": [],
   "source": [
    "BTCUSDT15m['VWAP_buy_signal'] = BTCUSDT15m['Close'] > BTCUSDT15m['VWAP']\n",
    "BTCUSDT15m['VWAP_buy_signal'] = BTCUSDT15m['VWAP_buy_signal'].rolling(3).sum() >= 3\n",
    "BTCUSDT15m['VWAP_buy_signal'] = BTCUSDT15m['VWAP_buy_signal'].astype(int)"
   ]
  },
  {
   "cell_type": "markdown",
   "metadata": {
    "cell_id": "00009-2a332321-e989-4591-9d19-de34d58073ad",
    "deepnote_cell_height": 82,
    "deepnote_cell_type": "markdown"
   },
   "source": [
    "# PIVOTS SIGNAL"
   ]
  },
  {
   "cell_type": "code",
   "execution_count": 25,
   "metadata": {
    "cell_id": "00010-801e86b8-7fb3-4102-bdda-a40b02b974e0",
    "deepnote_cell_height": 81,
    "deepnote_cell_type": "code",
    "deepnote_to_be_reexecuted": false,
    "execution_millis": 13,
    "execution_start": 1657505493596,
    "source_hash": "3a527846"
   },
   "outputs": [],
   "source": [
    "pivots = fn.pivots(BTCUSDT15m['Open'], BTCUSDT15m['High'], BTCUSDT15m['Low'], BTCUSDT15m['Close'], anchor=15, method='fibonacci')"
   ]
  },
  {
   "cell_type": "code",
   "execution_count": null,
   "metadata": {
    "cell_id": "7b96642d5ad64332a296a8a53243a990",
    "deepnote_cell_height": 81,
    "deepnote_cell_type": "code",
    "deepnote_to_be_reexecuted": false,
    "execution_millis": 0,
    "execution_start": 1657505493659,
    "source_hash": "7f14dda4",
    "tags": []
   },
   "outputs": [],
   "source": [
    "    "
   ]
  },
  {
   "cell_type": "markdown",
   "metadata": {
    "cell_id": "0803c77b61004f14b3218be3f806fe77",
    "deepnote_cell_height": 82,
    "deepnote_cell_type": "markdown",
    "tags": []
   },
   "source": [
    "# SRSI SIGNAL"
   ]
  },
  {
   "cell_type": "code",
   "execution_count": 26,
   "metadata": {
    "cell_id": "78b8e487677d447294c86971f7278f55",
    "deepnote_cell_height": 150,
    "deepnote_cell_type": "code",
    "deepnote_to_be_reexecuted": false,
    "execution_millis": 664,
    "execution_start": 1657505493660,
    "source_hash": "e5007f4f",
    "tags": []
   },
   "outputs": [
    {
     "name": "stdout",
     "output_type": "stream",
     "text": [
      "CPU times: total: 46.9 ms\n",
      "Wall time: 52.8 ms\n"
     ]
    }
   ],
   "source": [
    "%%time\n",
    "BTCUSDT15m = pd.concat([BTCUSDT15m, pta.stochrsi(BTCUSDT15m.Close, 14)], axis = 1)"
   ]
  },
  {
   "cell_type": "code",
   "execution_count": 27,
   "metadata": {
    "cell_id": "f76063b69172410884097fc7ceb2cc43",
    "deepnote_cell_height": 81,
    "deepnote_cell_type": "code",
    "deepnote_to_be_reexecuted": false,
    "execution_millis": 0,
    "execution_start": 1657505493706,
    "source_hash": "678a314f",
    "tags": []
   },
   "outputs": [],
   "source": [
    "BTCUSDT15m.rename(columns = {'STOCHRSIk_14_14_3_3':'K', 'STOCHRSId_14_14_3_3':'D'}, inplace = True)"
   ]
  },
  {
   "cell_type": "code",
   "execution_count": 28,
   "metadata": {},
   "outputs": [
    {
     "data": {
      "text/plain": [
       "Index(['Open', 'High', 'Low', 'Close', 'Volume', 'K', 'D', 'EMA_8', 'EMA_14',\n",
       "       'EMA_50', 'ATR', 'KD_Cross', 'TP', 'SL', 'Buy_signal', 'Sell_signal',\n",
       "       'Outcome', 'VWAP', 'VWAP_buy_signal', 'K', 'D'],\n",
       "      dtype='object')"
      ]
     },
     "execution_count": 28,
     "metadata": {},
     "output_type": "execute_result"
    }
   ],
   "source": [
    "BTCUSDT15m.columns"
   ]
  },
  {
   "cell_type": "code",
   "execution_count": 29,
   "metadata": {
    "cell_id": "3b95a8c4d9dd428f9e7839700173d48f",
    "deepnote_cell_height": 171,
    "deepnote_cell_type": "code",
    "deepnote_to_be_reexecuted": false,
    "execution_millis": 0,
    "execution_start": 1657505493748,
    "source_hash": "7c2ec3a9",
    "tags": []
   },
   "outputs": [
    {
     "ename": "ValueError",
     "evalue": "Can only compare identically-labeled DataFrame objects",
     "output_type": "error",
     "traceback": [
      "\u001b[1;31m---------------------------------------------------------------------------\u001b[0m",
      "\u001b[1;31mValueError\u001b[0m                                Traceback (most recent call last)",
      "\u001b[1;32md:\\Desktop\\OneDrive - ITESO\\ITESO\\11S\\Microestructuras y Sistemas de Trading\\Proyecto\\yo\\testR.ipynb Cell 35\u001b[0m in \u001b[0;36m<cell line: 1>\u001b[1;34m()\u001b[0m\n\u001b[1;32m----> <a href='vscode-notebook-cell:/d%3A/Desktop/OneDrive%20-%20ITESO/ITESO/11S/Microestructuras%20y%20Sistemas%20de%20Trading/Proyecto/yo/testR.ipynb#ch0000016?line=0'>1</a>\u001b[0m BTCUSDT15m[\u001b[39m'\u001b[39m\u001b[39mSRSI_buy\u001b[39m\u001b[39m'\u001b[39m] \u001b[39m=\u001b[39m BTCUSDT15m[\u001b[39m'\u001b[39;49m\u001b[39mK\u001b[39;49m\u001b[39m'\u001b[39;49m] \u001b[39m>\u001b[39;49m BTCUSDT15m[\u001b[39m'\u001b[39;49m\u001b[39mD\u001b[39;49m\u001b[39m'\u001b[39;49m]\n\u001b[0;32m      <a href='vscode-notebook-cell:/d%3A/Desktop/OneDrive%20-%20ITESO/ITESO/11S/Microestructuras%20y%20Sistemas%20de%20Trading/Proyecto/yo/testR.ipynb#ch0000016?line=1'>2</a>\u001b[0m BTCUSDT15m[\u001b[39m'\u001b[39m\u001b[39mSRSI_sell\u001b[39m\u001b[39m'\u001b[39m] \u001b[39m=\u001b[39m BTCUSDT15m[\u001b[39m'\u001b[39m\u001b[39mK\u001b[39m\u001b[39m'\u001b[39m] \u001b[39m<\u001b[39m BTCUSDT15m[\u001b[39m'\u001b[39m\u001b[39mD\u001b[39m\u001b[39m'\u001b[39m]\n\u001b[0;32m      <a href='vscode-notebook-cell:/d%3A/Desktop/OneDrive%20-%20ITESO/ITESO/11S/Microestructuras%20y%20Sistemas%20de%20Trading/Proyecto/yo/testR.ipynb#ch0000016?line=3'>4</a>\u001b[0m BTCUSDT15m[\u001b[39m'\u001b[39m\u001b[39mSRSI_buy_signal\u001b[39m\u001b[39m'\u001b[39m] \u001b[39m=\u001b[39m BTCUSDT15m[\u001b[39m'\u001b[39m\u001b[39mSRSI_buy\u001b[39m\u001b[39m'\u001b[39m]\u001b[39m.\u001b[39mrolling(\u001b[39m2\u001b[39m)\u001b[39m.\u001b[39msum() \u001b[39m>\u001b[39m\u001b[39m=\u001b[39m \u001b[39m2\u001b[39m\n",
      "File \u001b[1;32md:\\Desktop\\OneDrive - ITESO\\ITESO\\11S\\Microestructuras y Sistemas de Trading\\Proyecto\\.venv\\lib\\site-packages\\pandas\\core\\ops\\common.py:70\u001b[0m, in \u001b[0;36m_unpack_zerodim_and_defer.<locals>.new_method\u001b[1;34m(self, other)\u001b[0m\n\u001b[0;32m     66\u001b[0m             \u001b[39mreturn\u001b[39;00m \u001b[39mNotImplemented\u001b[39m\n\u001b[0;32m     68\u001b[0m other \u001b[39m=\u001b[39m item_from_zerodim(other)\n\u001b[1;32m---> 70\u001b[0m \u001b[39mreturn\u001b[39;00m method(\u001b[39mself\u001b[39;49m, other)\n",
      "File \u001b[1;32md:\\Desktop\\OneDrive - ITESO\\ITESO\\11S\\Microestructuras y Sistemas de Trading\\Proyecto\\.venv\\lib\\site-packages\\pandas\\core\\arraylike.py:56\u001b[0m, in \u001b[0;36mOpsMixin.__gt__\u001b[1;34m(self, other)\u001b[0m\n\u001b[0;32m     54\u001b[0m \u001b[39m@unpack_zerodim_and_defer\u001b[39m(\u001b[39m\"\u001b[39m\u001b[39m__gt__\u001b[39m\u001b[39m\"\u001b[39m)\n\u001b[0;32m     55\u001b[0m \u001b[39mdef\u001b[39;00m \u001b[39m__gt__\u001b[39m(\u001b[39mself\u001b[39m, other):\n\u001b[1;32m---> 56\u001b[0m     \u001b[39mreturn\u001b[39;00m \u001b[39mself\u001b[39;49m\u001b[39m.\u001b[39;49m_cmp_method(other, operator\u001b[39m.\u001b[39;49mgt)\n",
      "File \u001b[1;32md:\\Desktop\\OneDrive - ITESO\\ITESO\\11S\\Microestructuras y Sistemas de Trading\\Proyecto\\.venv\\lib\\site-packages\\pandas\\core\\frame.py:6937\u001b[0m, in \u001b[0;36mDataFrame._cmp_method\u001b[1;34m(self, other, op)\u001b[0m\n\u001b[0;32m   6934\u001b[0m \u001b[39mdef\u001b[39;00m \u001b[39m_cmp_method\u001b[39m(\u001b[39mself\u001b[39m, other, op):\n\u001b[0;32m   6935\u001b[0m     axis \u001b[39m=\u001b[39m \u001b[39m1\u001b[39m  \u001b[39m# only relevant for Series other case\u001b[39;00m\n\u001b[1;32m-> 6937\u001b[0m     \u001b[39mself\u001b[39m, other \u001b[39m=\u001b[39m ops\u001b[39m.\u001b[39;49malign_method_FRAME(\u001b[39mself\u001b[39;49m, other, axis, flex\u001b[39m=\u001b[39;49m\u001b[39mFalse\u001b[39;49;00m, level\u001b[39m=\u001b[39;49m\u001b[39mNone\u001b[39;49;00m)\n\u001b[0;32m   6939\u001b[0m     \u001b[39m# See GH#4537 for discussion of scalar op behavior\u001b[39;00m\n\u001b[0;32m   6940\u001b[0m     new_data \u001b[39m=\u001b[39m \u001b[39mself\u001b[39m\u001b[39m.\u001b[39m_dispatch_frame_op(other, op, axis\u001b[39m=\u001b[39maxis)\n",
      "File \u001b[1;32md:\\Desktop\\OneDrive - ITESO\\ITESO\\11S\\Microestructuras y Sistemas de Trading\\Proyecto\\.venv\\lib\\site-packages\\pandas\\core\\ops\\__init__.py:289\u001b[0m, in \u001b[0;36malign_method_FRAME\u001b[1;34m(left, right, axis, flex, level)\u001b[0m\n\u001b[0;32m    287\u001b[0m             left, right \u001b[39m=\u001b[39m left\u001b[39m.\u001b[39malign(right, join\u001b[39m=\u001b[39m\u001b[39m\"\u001b[39m\u001b[39mouter\u001b[39m\u001b[39m\"\u001b[39m, level\u001b[39m=\u001b[39mlevel, copy\u001b[39m=\u001b[39m\u001b[39mFalse\u001b[39;00m)\n\u001b[0;32m    288\u001b[0m         \u001b[39melse\u001b[39;00m:\n\u001b[1;32m--> 289\u001b[0m             \u001b[39mraise\u001b[39;00m \u001b[39mValueError\u001b[39;00m(\n\u001b[0;32m    290\u001b[0m                 \u001b[39m\"\u001b[39m\u001b[39mCan only compare identically-labeled DataFrame objects\u001b[39m\u001b[39m\"\u001b[39m\n\u001b[0;32m    291\u001b[0m             )\n\u001b[0;32m    292\u001b[0m \u001b[39melif\u001b[39;00m \u001b[39misinstance\u001b[39m(right, ABCSeries):\n\u001b[0;32m    293\u001b[0m     \u001b[39m# axis=1 is default for DataFrame-with-Series op\u001b[39;00m\n\u001b[0;32m    294\u001b[0m     axis \u001b[39m=\u001b[39m left\u001b[39m.\u001b[39m_get_axis_number(axis) \u001b[39mif\u001b[39;00m axis \u001b[39mis\u001b[39;00m \u001b[39mnot\u001b[39;00m \u001b[39mNone\u001b[39;00m \u001b[39melse\u001b[39;00m \u001b[39m1\u001b[39m\n",
      "\u001b[1;31mValueError\u001b[0m: Can only compare identically-labeled DataFrame objects"
     ]
    }
   ],
   "source": [
    "BTCUSDT15m['SRSI_buy'] = BTCUSDT15m['K'] > BTCUSDT15m['D']\n",
    "BTCUSDT15m['SRSI_sell'] = BTCUSDT15m['K'] < BTCUSDT15m['D']\n",
    "\n",
    "BTCUSDT15m['SRSI_buy_signal'] = BTCUSDT15m['SRSI_buy'].rolling(2).sum() >= 2\n",
    "BTCUSDT15m['SRSI_buy_signal'] = BTCUSDT15m['SRSI_buy_signal'].astype(int)\n",
    "BTCUSDT15m['SRSI_sell_signal'] = BTCUSDT15m['SRSI_sell'].rolling(3).sum() >= 3"
   ]
  },
  {
   "cell_type": "code",
   "execution_count": null,
   "metadata": {
    "cell_id": "7143f95649d0402b86a7ee9a432b7900",
    "deepnote_cell_height": 81,
    "deepnote_cell_type": "code",
    "deepnote_to_be_reexecuted": false,
    "execution_millis": 0,
    "execution_start": 1657505493749,
    "source_hash": "f0df8d29",
    "tags": []
   },
   "outputs": [],
   "source": [
    "BTCUSDT15m['SRSI_sell_signal'] = BTCUSDT15m['SRSI_sell_signal'].map({True: 2 , False: 0})"
   ]
  },
  {
   "cell_type": "code",
   "execution_count": null,
   "metadata": {
    "cell_id": "aff9cff4b35a4e40ba2a31cd4e4f59fd",
    "deepnote_cell_height": 81,
    "deepnote_cell_type": "code",
    "deepnote_to_be_reexecuted": false,
    "execution_millis": 1,
    "execution_start": 1657505493750,
    "source_hash": "be017a23",
    "tags": []
   },
   "outputs": [],
   "source": [
    "BTCUSDT15m['SRSI_signal'] = BTCUSDT15m['SRSI_buy_signal']+BTCUSDT15m['SRSI_sell_signal']"
   ]
  },
  {
   "cell_type": "code",
   "execution_count": null,
   "metadata": {
    "cell_id": "3074afbf123842feb2a308b6b3a02d48",
    "deepnote_cell_height": 600,
    "deepnote_cell_type": "code",
    "deepnote_table_loading": false,
    "deepnote_table_state": {
     "filters": [],
     "pageIndex": 26,
     "pageSize": 10,
     "sortBy": []
    },
    "deepnote_to_be_reexecuted": false,
    "execution_millis": 576,
    "execution_start": 1657505493754,
    "source_hash": "f1f4f994",
    "tags": []
   },
   "outputs": [],
   "source": [
    "BTCUSDT15m[['VWAP_buy_signal', 'SRSI_signal']]"
   ]
  },
  {
   "cell_type": "markdown",
   "metadata": {
    "cell_id": "514841deda9842c2b10bc3aa678d5723",
    "deepnote_cell_height": 82,
    "deepnote_cell_type": "markdown",
    "tags": []
   },
   "source": [
    "# TOTAL SIGNAL"
   ]
  },
  {
   "cell_type": "code",
   "execution_count": null,
   "metadata": {
    "cell_id": "321d4b1a9bc2494d957f7ef2326fcb9e",
    "deepnote_cell_height": 81,
    "deepnote_cell_type": "code",
    "deepnote_to_be_reexecuted": false,
    "execution_millis": 945,
    "execution_start": 1657505493850,
    "source_hash": "af5defac",
    "tags": []
   },
   "outputs": [],
   "source": [
    "BTCUSDT15m['buy'] = [1 if BTCUSDT15m['VWAP_buy_signal'][i] == 1 and BTCUSDT15m['SRSI_signal'][i] == 1 else 0 for i in range(len(BTCUSDT15m))]"
   ]
  },
  {
   "cell_type": "code",
   "execution_count": null,
   "metadata": {
    "cell_id": "fbdbf2a43e1f4161991b805dc2338db8",
    "deepnote_cell_height": 118.1875,
    "deepnote_cell_type": "code",
    "deepnote_output_heights": [
     21.1875
    ],
    "deepnote_to_be_reexecuted": false,
    "execution_millis": 3,
    "execution_start": 1657505494821,
    "source_hash": "89232445",
    "tags": []
   },
   "outputs": [],
   "source": [
    "Counter(BTCUSDT15m['buy'])"
   ]
  },
  {
   "cell_type": "code",
   "execution_count": null,
   "metadata": {
    "cell_id": "3cb425b909ce4c1b89252a317941aa2d",
    "deepnote_cell_height": 81,
    "deepnote_cell_type": "code",
    "deepnote_to_be_reexecuted": false,
    "execution_millis": 954,
    "execution_start": 1657505494882,
    "source_hash": "68bc1c43",
    "tags": []
   },
   "outputs": [],
   "source": [
    "BTCUSDT15m['sell'] = [2 if BTCUSDT15m['SRSI_signal'][i] == 2 else 0 for i in range(len(BTCUSDT15m))]"
   ]
  },
  {
   "cell_type": "code",
   "execution_count": null,
   "metadata": {
    "cell_id": "0b43b03b877c44ad9a64eeb915f0647f",
    "deepnote_cell_height": 118.1875,
    "deepnote_cell_type": "code",
    "deepnote_output_heights": [
     21.1875
    ],
    "deepnote_to_be_reexecuted": false,
    "execution_millis": 4,
    "execution_start": 1657505495861,
    "source_hash": "6f28ff22",
    "tags": []
   },
   "outputs": [],
   "source": [
    "Counter(BTCUSDT15m['sell'])"
   ]
  },
  {
   "cell_type": "code",
   "execution_count": null,
   "metadata": {
    "cell_id": "78eeccaeb9b240a1a83a2d44ee40ca3e",
    "deepnote_cell_height": 81,
    "deepnote_cell_type": "code",
    "deepnote_to_be_reexecuted": false,
    "execution_millis": 1,
    "execution_start": 1657505495873,
    "source_hash": "59e3ed22",
    "tags": []
   },
   "outputs": [],
   "source": [
    "BTCUSDT15m['position'] = BTCUSDT15m['sell']+BTCUSDT15m['buy']"
   ]
  },
  {
   "cell_type": "code",
   "execution_count": null,
   "metadata": {
    "cell_id": "7d02e7e1029640ce9e4550dddaf690a9",
    "deepnote_cell_height": 118.1875,
    "deepnote_cell_type": "code",
    "deepnote_output_heights": [
     21.1875
    ],
    "deepnote_to_be_reexecuted": false,
    "execution_millis": 26,
    "execution_start": 1657505495879,
    "source_hash": "a18a6700",
    "tags": []
   },
   "outputs": [],
   "source": [
    "Counter(BTCUSDT15m['position'])"
   ]
  },
  {
   "cell_type": "code",
   "execution_count": null,
   "metadata": {
    "cell_id": "fcfae2c504c44fbdae372672feb1fcce",
    "deepnote_cell_height": 81,
    "deepnote_cell_type": "code",
    "deepnote_to_be_reexecuted": false,
    "execution_millis": 0,
    "execution_start": 1657505495926,
    "source_hash": "b623e53d",
    "tags": []
   },
   "outputs": [],
   "source": []
  },
  {
   "cell_type": "code",
   "execution_count": null,
   "metadata": {
    "cell_id": "327ab115e0cc4e98af0d18d2d5f03545",
    "deepnote_cell_height": 81,
    "deepnote_cell_type": "code",
    "deepnote_to_be_reexecuted": false,
    "execution_millis": 0,
    "execution_start": 1657505495927,
    "source_hash": "b623e53d",
    "tags": []
   },
   "outputs": [],
   "source": []
  },
  {
   "cell_type": "code",
   "execution_count": null,
   "metadata": {
    "cell_id": "04f953b685274bb699292a18df243e20",
    "deepnote_cell_height": 225,
    "deepnote_cell_type": "code",
    "deepnote_to_be_reexecuted": false,
    "execution_millis": 2785,
    "execution_start": 1657505816066,
    "source_hash": "fc1f28a",
    "tags": []
   },
   "outputs": [],
   "source": [
    "def pointpos(x):\n",
    "    if x['position']== 1:\n",
    "        return x['High']+1e-3\n",
    "    elif x['position']== 2:\n",
    "        return x['Low']-1e-3\n",
    "    else:\n",
    "        return np.nan\n",
    "\n",
    "BTCUSDT15m['pointpos'] = BTCUSDT15m.apply(lambda row: pointpos(row), axis=1)"
   ]
  },
  {
   "cell_type": "code",
   "execution_count": null,
   "metadata": {
    "cell_id": "63b237fd0c054f2b8376fc75bf4367b5",
    "deepnote_cell_height": 81,
    "deepnote_cell_type": "code",
    "deepnote_to_be_reexecuted": false,
    "execution_start": 1657505495991,
    "source_hash": "b623e53d",
    "tags": []
   },
   "outputs": [],
   "source": []
  },
  {
   "cell_type": "code",
   "execution_count": null,
   "metadata": {
    "cell_id": "9464cfe99a084eb0b5402ff841666b14",
    "deepnote_cell_height": 117,
    "deepnote_cell_type": "code",
    "deepnote_to_be_reexecuted": false,
    "execution_millis": 1,
    "execution_start": 1657505820282,
    "source_hash": "80706739",
    "tags": []
   },
   "outputs": [],
   "source": [
    "t1 = BTCUSDT15m['2021-03-18 19:00:00': '2021-03-21 00:00:00']\n",
    "train = BTCUSDT15m['2018-01-01 00:00:00': '2019-01-01 00:00:00']\n",
    "test = BTCUSDT15m['2019-02-01 00:00:00': '2020-02-01 00:00:00']"
   ]
  },
  {
   "cell_type": "code",
   "execution_count": null,
   "metadata": {
    "cell_id": "ee5d2466f6c24dc3ad97569e647309ef",
    "deepnote_cell_height": 150,
    "deepnote_cell_type": "code",
    "deepnote_to_be_reexecuted": false,
    "execution_millis": 376,
    "execution_start": 1657505823539,
    "source_hash": "28c5aca9",
    "tags": []
   },
   "outputs": [],
   "source": [
    "%%time\n",
    "pivs = fn.pivots(t1['Open'], t1['High'], t1['Low'], t1['Close'], anchor=15, method='fibonacci')"
   ]
  },
  {
   "cell_type": "code",
   "execution_count": null,
   "metadata": {
    "cell_id": "055e3e8b1e374798a306d49ef45a12e7",
    "deepnote_cell_height": 1146,
    "deepnote_cell_type": "code",
    "deepnote_output_heights": [
     527
    ],
    "deepnote_to_be_reexecuted": false,
    "execution_millis": 33,
    "execution_start": 1657506011271,
    "source_hash": "8a784678",
    "tags": []
   },
   "outputs": [],
   "source": [
    "fig_001 = go.Figure(\n",
    "    data=[\n",
    "        go.Candlestick(\n",
    "            x=t1.index,\n",
    "            open=t1[\"Open\"],\n",
    "            high=t1[\"High\"],\n",
    "            low=t1[\"Low\"],\n",
    "            close=t1[\"Close\"],\n",
    "            name=\"OHLC\",\n",
    "        ),\n",
    "        go.Scatter(x=t1.index, y=t1['K'], line=dict(color='blue', width=1.5),mode=\"lines\", name=\"K\", yaxis=\"y2\"),\n",
    "        go.Scatter(x=t1.index, y=t1['D'], line=dict(color='red', width=1.5),mode=\"lines\", name=\"D\", yaxis=\"y2\"),\n",
    "        go.Scatter(x=t1.index, y=t1.VWAP, line=dict(color='blue', width=1.5), name=\"VWAP\"),\n",
    "        go.Scatter(x=pivs.index, y=pivs.p, line=dict(color='red', width=1.5), name=\"P\"),\n",
    "        go.Scatter(x=pivs.index, y=pivs.s1, line=dict(color='orange', width=1), name=\"S1\"),\n",
    "        go.Scatter(x=pivs.index, y=pivs.s2, line=dict(color='orange', width=1), name=\"S2\"),\n",
    "        go.Scatter(x=pivs.index, y=pivs.r1, line=dict(color='orange', width=1), name=\"R1\"),\n",
    "        go.Scatter(x=pivs.index, y=pivs.r2, line=dict(color='orange', width=1), name=\"R2\")]\n",
    "        ).update_layout(\n",
    "        yaxis_domain=[0.3, 1],\n",
    "        yaxis2={\"domain\": [0, 0.20]},\n",
    "        xaxis_rangeslider_visible=False,\n",
    "        showlegend=False,\n",
    " )\n",
    "\n",
    "fig_001.add_scatter(x=t1.index, y=t1['pointpos'], mode=\"markers\",\n",
    "                marker=dict(size=7, color=\"MediumPurple\"),\n",
    "                name=\"Signal\")\n",
    "\n",
    "fig_001"
   ]
  },
  {
   "cell_type": "markdown",
   "metadata": {
    "cell_id": "d2d4e909c14f4baa98bc67a83b860391",
    "deepnote_cell_height": 70,
    "deepnote_cell_type": "markdown",
    "tags": []
   },
   "source": [
    "![](files/strategy.png)"
   ]
  },
  {
   "cell_type": "code",
   "execution_count": null,
   "metadata": {
    "cell_id": "00023-640afe75-810a-4e9c-a3b2-d5b98a649723",
    "deepnote_cell_height": 81,
    "deepnote_cell_type": "code",
    "deepnote_to_be_reexecuted": false,
    "execution_millis": 25995926,
    "execution_start": 1657505496387,
    "source_hash": "b623e53d"
   },
   "outputs": [],
   "source": []
  },
  {
   "cell_type": "markdown",
   "metadata": {
    "created_in_deepnote_cell": true,
    "deepnote_cell_type": "markdown",
    "tags": []
   },
   "source": [
    "<a style='text-decoration:none;line-height:16px;display:flex;color:#5B5B62;padding:10px;justify-content:end;' href='https://deepnote.com?utm_source=created-in-deepnote-cell&projectId=972d23a0-f342-484b-9096-244a1ebf7fc5' target=\"_blank\">\n",
    "<img alt='Created in deepnote.com' style='display:inline;max-height:16px;margin:0px;margin-right:7.5px;' src='data:image/svg+xml;base64,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' > </img>\n",
    "Created in <span style='font-weight:600;margin-left:4px;'>Deepnote</span></a>"
   ]
  }
 ],
 "metadata": {
  "deepnote": {},
  "deepnote_execution_queue": [],
  "deepnote_notebook_id": "50944e7d-d251-4155-8be0-7297cff0cfcb",
  "kernelspec": {
   "display_name": "Python 3 (ipykernel)",
   "language": "python",
   "name": "python3"
  },
  "language_info": {
   "codemirror_mode": {
    "name": "ipython",
    "version": 3
   },
   "file_extension": ".py",
   "mimetype": "text/x-python",
   "name": "python",
   "nbconvert_exporter": "python",
   "pygments_lexer": "ipython3",
   "version": "3.10.4"
  },
  "vscode": {
   "interpreter": {
    "hash": "0dab539954432b9570ee3183e60644226b99fc187097846596cac5a89b94dfe5"
   }
  }
 },
 "nbformat": 4,
 "nbformat_minor": 2
}
